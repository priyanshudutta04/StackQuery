{
 "cells": [
  {
   "cell_type": "code",
   "execution_count": 4,
   "metadata": {},
   "outputs": [],
   "source": [
    "import os\n",
    "from dotenv import load_dotenv\n",
    "from langchain_google_genai import ChatGoogleGenerativeAI\n",
    "\n",
    "load_dotenv()\n",
    "api_key = os.getenv(\"GOOGLE_API_KEY\") \n",
    "llm = ChatGoogleGenerativeAI(model=\"gemini-1.5-flash\", temperature=0.7, google_api_key=api_key) "
   ]
  },
  {
   "cell_type": "code",
   "execution_count": null,
   "metadata": {},
   "outputs": [],
   "source": [
    "from langchain.prompts import PromptTemplate\n",
    "\n",
    "def is_coding(query):\n",
    "    \n",
    "    prompt = PromptTemplate.from_template(\n",
    "        \"Is the following question related to programming or software development? Reply with 'Yes' or 'No Strictly'.\\n\\nQuestion: {query}\"\n",
    "    )\n",
    "\n",
    "    response = llm.invoke(prompt.format(query=query))\n",
    "    response_text = response.content.strip().lower()  \n",
    "\n",
    "    return response_text == \"yes\""
   ]
  },
  {
   "cell_type": "code",
   "execution_count": null,
   "metadata": {},
   "outputs": [],
   "source": [
    "import requests\n",
    "\n",
    "def fetch_stackoverflow(query):\n",
    "    url = f\"https://api.stackexchange.com/2.3/search/advanced?order=desc&sort=relevance&q={query}&site=stackoverflow\"\n",
    "    response = requests.get(url)\n",
    "    data = response.json()\n",
    "\n",
    "    results = []\n",
    "    for item in data.get(\"items\", []):\n",
    "        title = item.get(\"title\", \"No title available\")\n",
    "        link = item.get(\"link\", \"\")\n",
    "        answer_id = item.get(\"accepted_answer_id\", \"No answer ID\")\n",
    "        \n",
    "        results.append(f\"Title: {title}\\nLink: {link}\\nAnswer ID: {answer_id}\")\n",
    "    \n",
    "    return results\n"
   ]
  },
  {
   "cell_type": "code",
   "execution_count": null,
   "metadata": {},
   "outputs": [
    {
     "name": "stdout",
     "output_type": "stream",
     "text": [
      "Stack Overflow Links: ['https://stackoverflow.com/questions/54450398/how-to-fix-gradle-task-appmergedebugjnilibfolders-in-flutter-gradle-build-fo', 'https://stackoverflow.com/questions/69431521/flutter-android-build-error-in-azure-pipeline-no-toolchains-found-in-the-ndk-to', 'https://stackoverflow.com/questions/60475481/flutter-doctor-error-android-sdkmanager-tool-not-found-windows']\n"
     ]
    }
   ],
   "source": [
    "query = \"How to fix ndk in flutter\"\n",
    "\n",
    "if is_coding(query):\n",
    "    results = fetch_stackoverflow(query)\n",
    "    links = [res.split(\"\\n\")[1].replace(\"Link: \", \"\") for res in results[:3]] if results else []\n",
    "\n",
    "    if links:\n",
    "        print(\"Stack Overflow Links:\", links)\n",
    "    else:\n",
    "        print(\"No relevant answers found.\")\n",
    "else:\n",
    "    print(\"This does not seem to be a coding-related question.\")\n"
   ]
  },
  {
   "cell_type": "code",
   "execution_count": null,
   "metadata": {},
   "outputs": [
    {
     "name": "stderr",
     "output_type": "stream",
     "text": [
      "C:\\Users\\PRIYANSHU\\AppData\\Local\\Temp\\ipykernel_1688\\2720506034.py:18: LangChainDeprecationWarning: The class `HuggingFaceEmbeddings` was deprecated in LangChain 0.2.2 and will be removed in 1.0. An updated version of the class exists in the :class:`~langchain-huggingface package and should be used instead. To use it run `pip install -U :class:`~langchain-huggingface` and import as `from :class:`~langchain_huggingface import HuggingFaceEmbeddings``.\n",
      "  embeddings = HuggingFaceEmbeddings(model_name=\"sentence-transformers/all-MiniLM-L6-v2\")\n"
     ]
    },
    {
     "name": "stdout",
     "output_type": "stream",
     "text": [
      "Created retriever tool for https://stackoverflow.com/questions/54450398/how-to-fix-gradle-task-appmergedebugjnilibfolders-in-flutter-gradle-build-fo\n",
      "Created retriever tool for https://stackoverflow.com/questions/69431521/flutter-android-build-error-in-azure-pipeline-no-toolchains-found-in-the-ndk-to\n",
      "Created retriever tool for https://stackoverflow.com/questions/60475481/flutter-doctor-error-android-sdkmanager-tool-not-found-windows\n"
     ]
    }
   ],
   "source": [
    "from langchain_community.document_loaders import WebBaseLoader\n",
    "from langchain_community.vectorstores import Chroma\n",
    "from langchain_text_splitters import RecursiveCharacterTextSplitter\n",
    "from langchain.embeddings import HuggingFaceEmbeddings\n",
    "from langchain.tools.retriever import create_retriever_tool\n",
    "\n",
    "\n",
    "if links:\n",
    "  \n",
    "    loaders = [WebBaseLoader(link) for link in links]\n",
    "    loaded_docs = [loader.load() for loader in loaders]\n",
    "\n",
    "    text_splitter = RecursiveCharacterTextSplitter(chunk_size=1000, chunk_overlap=200)\n",
    "    split_docs = [text_splitter.split_documents(docs) for docs in loaded_docs]\n",
    "\n",
    "    embeddings = HuggingFaceEmbeddings(model_name=\"sentence-transformers/all-MiniLM-L6-v2\")\n",
    "\n",
    "    retriever_tools = []\n",
    "    for i, (link, docs) in enumerate(zip(links, split_docs)):\n",
    "        vectordb = Chroma.from_documents(docs, embeddings)\n",
    "        retriever = vectordb.as_retriever()\n",
    "\n",
    "        tool = create_retriever_tool(\n",
    "            retriever,\n",
    "            f\"stackoverflow_search_{i+1}\",\n",
    "            f\"Search for solutions from Stack Overflow article: {link}\",\n",
    "        )\n",
    "        retriever_tools.append(tool)\n",
    "        print(f\"Created retriever tool for {link}\")\n",
    "\n",
    "else:\n",
    "    print(\"No Stack Overflow links found.\")\n"
   ]
  },
  {
   "cell_type": "code",
   "execution_count": 27,
   "metadata": {},
   "outputs": [
    {
     "data": {
      "text/plain": [
       "[Tool(name='stackoverflow_search_1', description='Search for solutions from Stack Overflow article: https://stackoverflow.com/questions/54450398/how-to-fix-gradle-task-appmergedebugjnilibfolders-in-flutter-gradle-build-fo', args_schema=<class 'langchain_core.tools.retriever.RetrieverInput'>, func=functools.partial(<function _get_relevant_documents at 0x000001B199F7DC60>, retriever=VectorStoreRetriever(tags=['Chroma', 'HuggingFaceEmbeddings'], vectorstore=<langchain_community.vectorstores.chroma.Chroma object at 0x000001B1B9E8FE80>, search_kwargs={}), document_prompt=PromptTemplate(input_variables=['page_content'], input_types={}, partial_variables={}, template='{page_content}'), document_separator='\\n\\n', response_format='content'), coroutine=functools.partial(<function _aget_relevant_documents at 0x000001B19A1A83A0>, retriever=VectorStoreRetriever(tags=['Chroma', 'HuggingFaceEmbeddings'], vectorstore=<langchain_community.vectorstores.chroma.Chroma object at 0x000001B1B9E8FE80>, search_kwargs={}), document_prompt=PromptTemplate(input_variables=['page_content'], input_types={}, partial_variables={}, template='{page_content}'), document_separator='\\n\\n', response_format='content')),\n",
       " Tool(name='stackoverflow_search_2', description='Search for solutions from Stack Overflow article: https://stackoverflow.com/questions/69431521/flutter-android-build-error-in-azure-pipeline-no-toolchains-found-in-the-ndk-to', args_schema=<class 'langchain_core.tools.retriever.RetrieverInput'>, func=functools.partial(<function _get_relevant_documents at 0x000001B199F7DC60>, retriever=VectorStoreRetriever(tags=['Chroma', 'HuggingFaceEmbeddings'], vectorstore=<langchain_community.vectorstores.chroma.Chroma object at 0x000001B1DB04E710>, search_kwargs={}), document_prompt=PromptTemplate(input_variables=['page_content'], input_types={}, partial_variables={}, template='{page_content}'), document_separator='\\n\\n', response_format='content'), coroutine=functools.partial(<function _aget_relevant_documents at 0x000001B19A1A83A0>, retriever=VectorStoreRetriever(tags=['Chroma', 'HuggingFaceEmbeddings'], vectorstore=<langchain_community.vectorstores.chroma.Chroma object at 0x000001B1DB04E710>, search_kwargs={}), document_prompt=PromptTemplate(input_variables=['page_content'], input_types={}, partial_variables={}, template='{page_content}'), document_separator='\\n\\n', response_format='content')),\n",
       " Tool(name='stackoverflow_search_3', description='Search for solutions from Stack Overflow article: https://stackoverflow.com/questions/60475481/flutter-doctor-error-android-sdkmanager-tool-not-found-windows', args_schema=<class 'langchain_core.tools.retriever.RetrieverInput'>, func=functools.partial(<function _get_relevant_documents at 0x000001B199F7DC60>, retriever=VectorStoreRetriever(tags=['Chroma', 'HuggingFaceEmbeddings'], vectorstore=<langchain_community.vectorstores.chroma.Chroma object at 0x000001B1DB08FC10>, search_kwargs={}), document_prompt=PromptTemplate(input_variables=['page_content'], input_types={}, partial_variables={}, template='{page_content}'), document_separator='\\n\\n', response_format='content'), coroutine=functools.partial(<function _aget_relevant_documents at 0x000001B19A1A83A0>, retriever=VectorStoreRetriever(tags=['Chroma', 'HuggingFaceEmbeddings'], vectorstore=<langchain_community.vectorstores.chroma.Chroma object at 0x000001B1DB08FC10>, search_kwargs={}), document_prompt=PromptTemplate(input_variables=['page_content'], input_types={}, partial_variables={}, template='{page_content}'), document_separator='\\n\\n', response_format='content'))]"
      ]
     },
     "execution_count": 27,
     "metadata": {},
     "output_type": "execute_result"
    }
   ],
   "source": [
    "retriever_tools"
   ]
  },
  {
   "cell_type": "code",
   "execution_count": null,
   "metadata": {},
   "outputs": [
    {
     "name": "stderr",
     "output_type": "stream",
     "text": [
      "f:\\Programming\\AI - Ml\\Langchain_Tutorial\\Basic rag\\myenv\\lib\\site-packages\\langsmith\\client.py:253: LangSmithMissingAPIKeyWarning: API key must be provided when using hosted LangSmith API\n",
      "  warnings.warn(\n"
     ]
    },
    {
     "data": {
      "text/plain": [
       "[SystemMessagePromptTemplate(prompt=PromptTemplate(input_variables=[], input_types={}, partial_variables={}, template='You are a helpful assistant'), additional_kwargs={}),\n",
       " MessagesPlaceholder(variable_name='chat_history', optional=True),\n",
       " HumanMessagePromptTemplate(prompt=PromptTemplate(input_variables=['input'], input_types={}, partial_variables={}, template='{input}'), additional_kwargs={}),\n",
       " MessagesPlaceholder(variable_name='agent_scratchpad')]"
      ]
     },
     "execution_count": 28,
     "metadata": {},
     "output_type": "execute_result"
    }
   ],
   "source": [
    "from langchain import hub\n",
    "prompt = hub.pull(\"hwchase17/openai-functions-agent\")\n",
    "prompt.messages"
   ]
  },
  {
   "cell_type": "code",
   "execution_count": 30,
   "metadata": {},
   "outputs": [],
   "source": [
    "from langchain.agents import create_tool_calling_agent\n",
    "agent=create_tool_calling_agent(llm,retriever_tools,prompt)"
   ]
  },
  {
   "cell_type": "code",
   "execution_count": 32,
   "metadata": {},
   "outputs": [
    {
     "data": {
      "text/plain": [
       "AgentExecutor(verbose=True, agent=RunnableMultiActionAgent(runnable=RunnableAssign(mapper={\n",
       "  agent_scratchpad: RunnableLambda(lambda x: message_formatter(x['intermediate_steps']))\n",
       "})\n",
       "| ChatPromptTemplate(input_variables=['agent_scratchpad', 'input'], optional_variables=['chat_history'], input_types={'chat_history': list[typing.Annotated[typing.Union[typing.Annotated[langchain_core.messages.ai.AIMessage, Tag(tag='ai')], typing.Annotated[langchain_core.messages.human.HumanMessage, Tag(tag='human')], typing.Annotated[langchain_core.messages.chat.ChatMessage, Tag(tag='chat')], typing.Annotated[langchain_core.messages.system.SystemMessage, Tag(tag='system')], typing.Annotated[langchain_core.messages.function.FunctionMessage, Tag(tag='function')], typing.Annotated[langchain_core.messages.tool.ToolMessage, Tag(tag='tool')], typing.Annotated[langchain_core.messages.ai.AIMessageChunk, Tag(tag='AIMessageChunk')], typing.Annotated[langchain_core.messages.human.HumanMessageChunk, Tag(tag='HumanMessageChunk')], typing.Annotated[langchain_core.messages.chat.ChatMessageChunk, Tag(tag='ChatMessageChunk')], typing.Annotated[langchain_core.messages.system.SystemMessageChunk, Tag(tag='SystemMessageChunk')], typing.Annotated[langchain_core.messages.function.FunctionMessageChunk, Tag(tag='FunctionMessageChunk')], typing.Annotated[langchain_core.messages.tool.ToolMessageChunk, Tag(tag='ToolMessageChunk')]], FieldInfo(annotation=NoneType, required=True, discriminator=Discriminator(discriminator=<function _get_type at 0x000001B196565CF0>, custom_error_type=None, custom_error_message=None, custom_error_context=None))]], 'agent_scratchpad': list[typing.Annotated[typing.Union[typing.Annotated[langchain_core.messages.ai.AIMessage, Tag(tag='ai')], typing.Annotated[langchain_core.messages.human.HumanMessage, Tag(tag='human')], typing.Annotated[langchain_core.messages.chat.ChatMessage, Tag(tag='chat')], typing.Annotated[langchain_core.messages.system.SystemMessage, Tag(tag='system')], typing.Annotated[langchain_core.messages.function.FunctionMessage, Tag(tag='function')], typing.Annotated[langchain_core.messages.tool.ToolMessage, Tag(tag='tool')], typing.Annotated[langchain_core.messages.ai.AIMessageChunk, Tag(tag='AIMessageChunk')], typing.Annotated[langchain_core.messages.human.HumanMessageChunk, Tag(tag='HumanMessageChunk')], typing.Annotated[langchain_core.messages.chat.ChatMessageChunk, Tag(tag='ChatMessageChunk')], typing.Annotated[langchain_core.messages.system.SystemMessageChunk, Tag(tag='SystemMessageChunk')], typing.Annotated[langchain_core.messages.function.FunctionMessageChunk, Tag(tag='FunctionMessageChunk')], typing.Annotated[langchain_core.messages.tool.ToolMessageChunk, Tag(tag='ToolMessageChunk')]], FieldInfo(annotation=NoneType, required=True, discriminator=Discriminator(discriminator=<function _get_type at 0x000001B196565CF0>, custom_error_type=None, custom_error_message=None, custom_error_context=None))]]}, partial_variables={'chat_history': []}, metadata={'lc_hub_owner': 'hwchase17', 'lc_hub_repo': 'openai-functions-agent', 'lc_hub_commit_hash': 'a1655024b06afbd95d17449f21316291e0726f13dcfaf990cc0d18087ad689a5'}, messages=[SystemMessagePromptTemplate(prompt=PromptTemplate(input_variables=[], input_types={}, partial_variables={}, template='You are a helpful assistant'), additional_kwargs={}), MessagesPlaceholder(variable_name='chat_history', optional=True), HumanMessagePromptTemplate(prompt=PromptTemplate(input_variables=['input'], input_types={}, partial_variables={}, template='{input}'), additional_kwargs={}), MessagesPlaceholder(variable_name='agent_scratchpad')])\n",
       "| RunnableBinding(bound=ChatGoogleGenerativeAI(model='models/gemini-1.5-flash', google_api_key=SecretStr('**********'), client=<google.ai.generativelanguage_v1beta.services.generative_service.client.GenerativeServiceClient object at 0x000001B19CE45450>, default_metadata=()), kwargs={'tools': [{'type': 'function', 'function': {'name': 'stackoverflow_search_1', 'description': 'Search for solutions from Stack Overflow article: https://stackoverflow.com/questions/54450398/how-to-fix-gradle-task-appmergedebugjnilibfolders-in-flutter-gradle-build-fo', 'parameters': {'properties': {'query': {'description': 'query to look up in retriever', 'type': 'string'}}, 'required': ['query'], 'type': 'object'}}}, {'type': 'function', 'function': {'name': 'stackoverflow_search_2', 'description': 'Search for solutions from Stack Overflow article: https://stackoverflow.com/questions/69431521/flutter-android-build-error-in-azure-pipeline-no-toolchains-found-in-the-ndk-to', 'parameters': {'properties': {'query': {'description': 'query to look up in retriever', 'type': 'string'}}, 'required': ['query'], 'type': 'object'}}}, {'type': 'function', 'function': {'name': 'stackoverflow_search_3', 'description': 'Search for solutions from Stack Overflow article: https://stackoverflow.com/questions/60475481/flutter-doctor-error-android-sdkmanager-tool-not-found-windows', 'parameters': {'properties': {'query': {'description': 'query to look up in retriever', 'type': 'string'}}, 'required': ['query'], 'type': 'object'}}}]}, config={}, config_factories=[])\n",
       "| ToolsAgentOutputParser(), input_keys_arg=[], return_keys_arg=[], stream_runnable=True), tools=[Tool(name='stackoverflow_search_1', description='Search for solutions from Stack Overflow article: https://stackoverflow.com/questions/54450398/how-to-fix-gradle-task-appmergedebugjnilibfolders-in-flutter-gradle-build-fo', args_schema=<class 'langchain_core.tools.retriever.RetrieverInput'>, func=functools.partial(<function _get_relevant_documents at 0x000001B199F7DC60>, retriever=VectorStoreRetriever(tags=['Chroma', 'HuggingFaceEmbeddings'], vectorstore=<langchain_community.vectorstores.chroma.Chroma object at 0x000001B1B9E8FE80>, search_kwargs={}), document_prompt=PromptTemplate(input_variables=['page_content'], input_types={}, partial_variables={}, template='{page_content}'), document_separator='\\n\\n', response_format='content'), coroutine=functools.partial(<function _aget_relevant_documents at 0x000001B19A1A83A0>, retriever=VectorStoreRetriever(tags=['Chroma', 'HuggingFaceEmbeddings'], vectorstore=<langchain_community.vectorstores.chroma.Chroma object at 0x000001B1B9E8FE80>, search_kwargs={}), document_prompt=PromptTemplate(input_variables=['page_content'], input_types={}, partial_variables={}, template='{page_content}'), document_separator='\\n\\n', response_format='content')), Tool(name='stackoverflow_search_2', description='Search for solutions from Stack Overflow article: https://stackoverflow.com/questions/69431521/flutter-android-build-error-in-azure-pipeline-no-toolchains-found-in-the-ndk-to', args_schema=<class 'langchain_core.tools.retriever.RetrieverInput'>, func=functools.partial(<function _get_relevant_documents at 0x000001B199F7DC60>, retriever=VectorStoreRetriever(tags=['Chroma', 'HuggingFaceEmbeddings'], vectorstore=<langchain_community.vectorstores.chroma.Chroma object at 0x000001B1DB04E710>, search_kwargs={}), document_prompt=PromptTemplate(input_variables=['page_content'], input_types={}, partial_variables={}, template='{page_content}'), document_separator='\\n\\n', response_format='content'), coroutine=functools.partial(<function _aget_relevant_documents at 0x000001B19A1A83A0>, retriever=VectorStoreRetriever(tags=['Chroma', 'HuggingFaceEmbeddings'], vectorstore=<langchain_community.vectorstores.chroma.Chroma object at 0x000001B1DB04E710>, search_kwargs={}), document_prompt=PromptTemplate(input_variables=['page_content'], input_types={}, partial_variables={}, template='{page_content}'), document_separator='\\n\\n', response_format='content')), Tool(name='stackoverflow_search_3', description='Search for solutions from Stack Overflow article: https://stackoverflow.com/questions/60475481/flutter-doctor-error-android-sdkmanager-tool-not-found-windows', args_schema=<class 'langchain_core.tools.retriever.RetrieverInput'>, func=functools.partial(<function _get_relevant_documents at 0x000001B199F7DC60>, retriever=VectorStoreRetriever(tags=['Chroma', 'HuggingFaceEmbeddings'], vectorstore=<langchain_community.vectorstores.chroma.Chroma object at 0x000001B1DB08FC10>, search_kwargs={}), document_prompt=PromptTemplate(input_variables=['page_content'], input_types={}, partial_variables={}, template='{page_content}'), document_separator='\\n\\n', response_format='content'), coroutine=functools.partial(<function _aget_relevant_documents at 0x000001B19A1A83A0>, retriever=VectorStoreRetriever(tags=['Chroma', 'HuggingFaceEmbeddings'], vectorstore=<langchain_community.vectorstores.chroma.Chroma object at 0x000001B1DB08FC10>, search_kwargs={}), document_prompt=PromptTemplate(input_variables=['page_content'], input_types={}, partial_variables={}, template='{page_content}'), document_separator='\\n\\n', response_format='content'))])"
      ]
     },
     "execution_count": 32,
     "metadata": {},
     "output_type": "execute_result"
    }
   ],
   "source": [
    "from langchain.agents import AgentExecutor\n",
    "agent_executor=AgentExecutor(agent=agent,tools=retriever_tools,verbose=True)\n",
    "agent_executor"
   ]
  },
  {
   "cell_type": "code",
   "execution_count": 44,
   "metadata": {},
   "outputs": [
    {
     "name": "stdout",
     "output_type": "stream",
     "text": [
      "\n",
      "\n",
      "\u001b[1m> Entering new AgentExecutor chain...\u001b[0m\n",
      "\u001b[32;1m\u001b[1;3mThis error often arises during Android development, particularly with Flutter projects.  It indicates that the Android NDK (Native Development Kit) version specified in your project doesn't match a version installed on your system. To troubleshoot, let's try to gather more information.  Could you share the following:\n",
      "\n",
      "1. **The exact error message:**  Please provide the complete error message you're seeing.  The phrasing \"No version of NDK matched the requested version\" is generic, and the full message might contain crucial details like the requested NDK version.\n",
      "\n",
      "2. **Your Flutter and Android Studio versions:** Knowing your versions will help determine compatibility issues.  Run `flutter --version` and check your Android Studio version in the \"About\" section.\n",
      "\n",
      "3. **Your project's `local.properties` file (or equivalent):** This file specifies the NDK path.  Sharing its contents will reveal the NDK version your project expects.  (Be mindful of any sensitive information before sharing.)\n",
      "\n",
      "4. **Your installed NDK versions:**  You can find your installed NDK versions through the Android Studio SDK Manager (Tools > SDK Manager > SDK Tools).  Check if the required version is present.\n",
      "\n",
      "Once I have this information, I can provide more specific guidance.  In the meantime, here are some general steps you can take:\n",
      "\n",
      "* **Update your NDK:** Use the Android SDK Manager to update your NDK to the latest version or the version specified in your `local.properties` file.\n",
      "* **Verify the NDK path:** Ensure the path to your NDK in `local.properties` is correct.  A simple typo can cause this error.\n",
      "* **Invalidate caches/restart:**  Sometimes, Android Studio's caches can become corrupted. Try invalidating caches and restarting Android Studio (File > Invalidate Caches / Restart...).\n",
      "* **Clean and rebuild your project:**  A clean build can resolve inconsistencies. In your terminal, navigate to your project directory and run `flutter clean` followed by `flutter run`.\n",
      "\n",
      "\n",
      "Let's work through this step-by-step.  Provide the requested information, and I'll do my best to help.\n",
      "\u001b[0m\n",
      "\n",
      "\u001b[1m> Finished chain.\u001b[0m\n",
      "{'input': 'No version of NDK matched the requested version', 'output': 'This error often arises during Android development, particularly with Flutter projects.  It indicates that the Android NDK (Native Development Kit) version specified in your project doesn\\'t match a version installed on your system. To troubleshoot, let\\'s try to gather more information.  Could you share the following:\\n\\n1. **The exact error message:**  Please provide the complete error message you\\'re seeing.  The phrasing \"No version of NDK matched the requested version\" is generic, and the full message might contain crucial details like the requested NDK version.\\n\\n2. **Your Flutter and Android Studio versions:** Knowing your versions will help determine compatibility issues.  Run `flutter --version` and check your Android Studio version in the \"About\" section.\\n\\n3. **Your project\\'s `local.properties` file (or equivalent):** This file specifies the NDK path.  Sharing its contents will reveal the NDK version your project expects.  (Be mindful of any sensitive information before sharing.)\\n\\n4. **Your installed NDK versions:**  You can find your installed NDK versions through the Android Studio SDK Manager (Tools > SDK Manager > SDK Tools).  Check if the required version is present.\\n\\nOnce I have this information, I can provide more specific guidance.  In the meantime, here are some general steps you can take:\\n\\n* **Update your NDK:** Use the Android SDK Manager to update your NDK to the latest version or the version specified in your `local.properties` file.\\n* **Verify the NDK path:** Ensure the path to your NDK in `local.properties` is correct.  A simple typo can cause this error.\\n* **Invalidate caches/restart:**  Sometimes, Android Studio\\'s caches can become corrupted. Try invalidating caches and restarting Android Studio (File > Invalidate Caches / Restart...).\\n* **Clean and rebuild your project:**  A clean build can resolve inconsistencies. In your terminal, navigate to your project directory and run `flutter clean` followed by `flutter run`.\\n\\n\\nLet\\'s work through this step-by-step.  Provide the requested information, and I\\'ll do my best to help.\\n'}\n"
     ]
    }
   ],
   "source": [
    "response = agent_executor.invoke({\"input\": \"No version of NDK matched the requested version\"})\n",
    "print(response)"
   ]
  }
 ],
 "metadata": {
  "kernelspec": {
   "display_name": "myenv",
   "language": "python",
   "name": "python3"
  },
  "language_info": {
   "codemirror_mode": {
    "name": "ipython",
    "version": 3
   },
   "file_extension": ".py",
   "mimetype": "text/x-python",
   "name": "python",
   "nbconvert_exporter": "python",
   "pygments_lexer": "ipython3",
   "version": "3.10.5"
  }
 },
 "nbformat": 4,
 "nbformat_minor": 2
}
